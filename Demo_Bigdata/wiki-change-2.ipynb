{
 "cells": [
  {
   "cell_type": "code",
   "execution_count": 9,
   "id": "1c7f19e1",
   "metadata": {},
   "outputs": [],
   "source": [
    "from pyspark.sql import SparkSession\n",
    "\n",
    "# Spark session & context\n",
    "spark = (SparkSession\n",
    "         .builder\n",
    "         .master('local')\n",
    "         .appName('wiki-changes-event-consumer')\n",
    "         .getOrCreate())\n",
    "# sc = spark.sparkContext"
   ]
  },
  {
   "cell_type": "code",
   "execution_count": 10,
   "id": "8f28cac5",
   "metadata": {},
   "outputs": [],
   "source": [
    "# Create stream dataframe setting kafka server, topic and offset option\n",
    "df = (spark\n",
    "  .readStream\n",
    "  .format(\"kafka\")\n",
    "  .option(\"kafka.bootstrap.servers\", \"localhost:9092\") # kafka server\n",
    "  .option(\"subscribe\", \"wiki-changes\") # topic\n",
    "  .option(\"startingOffsets\", \"earliest\") # start from beginning \n",
    "  .load())"
   ]
  },
  {
   "cell_type": "code",
   "execution_count": 11,
   "id": "cd59fafa",
   "metadata": {},
   "outputs": [],
   "source": [
    "from pyspark.sql.types import StringType\n",
    "\n",
    "# Convert binary to string key and value\n",
    "df1 = (df\n",
    "    .withColumn(\"key\", df[\"key\"].cast(StringType()))\n",
    "    .withColumn(\"value\", df[\"value\"].cast(StringType())))"
   ]
  },
  {
   "cell_type": "code",
   "execution_count": 12,
   "id": "349a2409",
   "metadata": {},
   "outputs": [],
   "source": [
    "from pyspark.sql.functions import from_json\n",
    "from pyspark.sql.types import StructType, StructField, BooleanType, LongType, IntegerType\n",
    "\n",
    "# Event data schema\n",
    "schema_wiki = StructType(\n",
    "    [StructField(\"$schema\",StringType(),True),\n",
    "     StructField(\"bot\",BooleanType(),True),\n",
    "     StructField(\"comment\",StringType(),True),\n",
    "     StructField(\"id\",StringType(),True),\n",
    "     StructField(\"length\",\n",
    "                 StructType(\n",
    "                     [StructField(\"new\",IntegerType(),True),\n",
    "                      StructField(\"old\",IntegerType(),True)]),True),\n",
    "     StructField(\"meta\",\n",
    "                 StructType(\n",
    "                     [StructField(\"domain\",StringType(),True),\n",
    "                      StructField(\"dt\",StringType(),True),\n",
    "                      StructField(\"id\",StringType(),True),\n",
    "                      StructField(\"offset\",LongType(),True),\n",
    "                      StructField(\"partition\",LongType(),True),\n",
    "                      StructField(\"request_id\",StringType(),True),\n",
    "                      StructField(\"stream\",StringType(),True),\n",
    "                      StructField(\"topic\",StringType(),True),\n",
    "                      StructField(\"uri\",StringType(),True)]),True),\n",
    "     StructField(\"minor\",BooleanType(),True),\n",
    "     StructField(\"namespace\",IntegerType(),True),\n",
    "     StructField(\"parsedcomment\",StringType(),True),\n",
    "     StructField(\"patrolled\",BooleanType(),True),\n",
    "     StructField(\"revision\",\n",
    "                 StructType(\n",
    "                     [StructField(\"new\",IntegerType(),True),\n",
    "                      StructField(\"old\",IntegerType(),True)]),True),\n",
    "     StructField(\"server_name\",StringType(),True),\n",
    "     StructField(\"server_script_path\",StringType(),True),\n",
    "     StructField(\"server_url\",StringType(),True),\n",
    "     StructField(\"timestamp\",StringType(),True),\n",
    "     StructField(\"title\",StringType(),True),\n",
    "     StructField(\"type\",StringType(),True),\n",
    "     StructField(\"user\",StringType(),True),\n",
    "     StructField(\"wiki\",StringType(),True)])\n",
    "\n",
    "# Create dataframe setting schema for event data\n",
    "df_wiki = (df1\n",
    "           # Sets schema for event data\n",
    "           .withColumn(\"value\", from_json(\"value\", schema_wiki))\n",
    "          )"
   ]
  },
  {
   "cell_type": "code",
   "execution_count": 13,
   "id": "1869768c",
   "metadata": {},
   "outputs": [],
   "source": [
    "from pyspark.sql.functions import col, from_unixtime, to_date, to_timestamp\n",
    "\n",
    "# Transform into tabular \n",
    "# Convert unix timestamp to timestamp\n",
    "# Create partition column (change_timestamp_date)\n",
    "df_wiki_formatted = (df_wiki.select(\n",
    "    col(\"key\").alias(\"event_key\")\n",
    "    ,col(\"topic\").alias(\"event_topic\")\n",
    "    ,col(\"timestamp\").alias(\"event_timestamp\")\n",
    "    ,col(\"value.$schema\").alias(\"schema\")\n",
    "    ,\"value.bot\"\n",
    "    ,\"value.comment\"\n",
    "    ,\"value.id\"\n",
    "    ,col(\"value.length.new\").alias(\"length_new\")\n",
    "    ,col(\"value.length.old\").alias(\"length_old\")\n",
    "    ,\"value.minor\"\n",
    "    ,\"value.namespace\"\n",
    "    ,\"value.parsedcomment\"\n",
    "    ,\"value.patrolled\"\n",
    "    ,col(\"value.revision.new\").alias(\"revision_new\")\n",
    "    ,col(\"value.revision.old\").alias(\"revision_old\")\n",
    "    ,\"value.server_name\"\n",
    "    ,\"value.server_script_path\"\n",
    "    ,\"value.server_url\"\n",
    "    ,to_timestamp(from_unixtime(col(\"value.timestamp\"))).alias(\"change_timestamp\")\n",
    "    ,to_date(from_unixtime(col(\"value.timestamp\"))).alias(\"change_timestamp_date\")\n",
    "    ,\"value.title\"\n",
    "    ,\"value.type\"\n",
    "    ,\"value.user\"\n",
    "    ,\"value.wiki\"\n",
    "    ,col(\"value.meta.domain\").alias(\"meta_domain\")\n",
    "    ,col(\"value.meta.dt\").alias(\"meta_dt\")\n",
    "    ,col(\"value.meta.id\").alias(\"meta_id\")\n",
    "    ,col(\"value.meta.offset\").alias(\"meta_offset\")\n",
    "    ,col(\"value.meta.partition\").alias(\"meta_partition\")\n",
    "    ,col(\"value.meta.request_id\").alias(\"meta_request_id\")\n",
    "    ,col(\"value.meta.stream\").alias(\"meta_stream\")\n",
    "    ,col(\"value.meta.topic\").alias(\"meta_topic\")\n",
    "    ,col(\"value.meta.uri\").alias(\"meta_uri\")\n",
    "))"
   ]
  },
  {
   "cell_type": "code",
   "execution_count": 14,
   "id": "b8761cf0",
   "metadata": {},
   "outputs": [],
   "source": [
    "# Start query stream over stream dataframe\n",
    "raw_path = \"C:/BigData/data-lake/wiki-changes\"\n",
    "checkpoint_path = \"C:/BigData/data-lake/wiki-changes-checkpoint\"\n",
    "\n",
    "queryStream =(\n",
    "    df_wiki_formatted\n",
    "    .writeStream\n",
    "    .format(\"parquet\")\n",
    "    .queryName(\"wiki_changes_ingestion\")\n",
    "    .option(\"checkpointLocation\", checkpoint_path)\n",
    "    .option(\"path\", raw_path)\n",
    "    .outputMode(\"append\")\n",
    "    .partitionBy(\"change_timestamp_date\", \"server_name\")\n",
    "    .start())"
   ]
  },
  {
   "cell_type": "code",
   "execution_count": null,
   "id": "a3e2ffb5",
   "metadata": {},
   "outputs": [],
   "source": [
    "# Read parquet files as stream to output the number of rows\n",
    "df_wiki_changes = (\n",
    "    spark\n",
    "    .readStream\n",
    "    .format(\"parquet\")\n",
    "    .schema(df_wiki_formatted.schema)\n",
    "    .load(raw_path)\n",
    ")"
   ]
  },
  {
   "cell_type": "code",
   "execution_count": 27,
   "id": "936d01b4",
   "metadata": {},
   "outputs": [],
   "source": [
    "# Output to memory to count rows\n",
    "queryStreamMem = (df_wiki_changes\n",
    " .writeStream\n",
    " .format(\"memory\")\n",
    " .queryName(\"wiki_changes_count\")\n",
    " .outputMode(\"update\")\n",
    " .start())"
   ]
  },
  {
   "cell_type": "code",
   "execution_count": 32,
   "id": "fb41ffcf",
   "metadata": {
    "scrolled": true
   },
   "outputs": [
    {
     "name": "stdout",
     "output_type": "stream",
     "text": [
      "+---------+------------+--------------------+--------------------+-----+--------------------+----------+----------+----------+-----+---------+--------------------+---------+------------+------------+------------------+--------------------+-------------------+--------------------+----------+------------------+-----------+--------------------+--------------------+--------------------+-----------+--------------+--------------------+--------------------+--------------------+--------------------+---------------------+--------------------+\n",
      "|event_key| event_topic|     event_timestamp|              schema|  bot|             comment|        id|length_new|length_old|minor|namespace|       parsedcomment|patrolled|revision_new|revision_old|server_script_path|          server_url|   change_timestamp|               title|      type|              user|       wiki|         meta_domain|             meta_dt|             meta_id|meta_offset|meta_partition|     meta_request_id|         meta_stream|          meta_topic|            meta_uri|change_timestamp_date|         server_name|\n",
      "+---------+------------+--------------------+--------------------+-----+--------------------+----------+----------+----------+-----+---------+--------------------+---------+------------+------------+------------------+--------------------+-------------------+--------------------+----------+------------------+-----------+--------------------+--------------------+--------------------+-----------+--------------+--------------------+--------------------+--------------------+--------------------+---------------------+--------------------+\n",
      "|     null|wiki-changes|2021-09-13 23:10:...|/mediawiki/recent...|false|[[:File:Parco Naz...|1768655906|      null|      null| null|       14|<a href=\"/wiki/Fi...|     null|        null|        null|                /w|https://commons.w...|2021-09-13 23:09:57|Category:Parco na...|categorize|              FrDr|commonswiki|commons.wikimedia...|2021-09-13T16:09:57Z|22592dce-03f7-42d...|  483717196|             0|2c02340a-32c7-43a...|mediawiki.recentc...|codfw.mediawiki.r...|https://commons.w...|           2021-09-13|commons.wikimedia...|\n",
      "|     null|wiki-changes|2021-09-13 23:10:...|/mediawiki/recent...|false|[[:File:Kannelmäk...|1768655877|      null|      null| null|       14|<a href=\"/wiki/Fi...|     null|        null|        null|                /w|https://commons.w...|2021-09-13 23:09:54|Category:Flickr i...|categorize|         Konryusui|commonswiki|commons.wikimedia...|2021-09-13T16:09:54Z|9b127817-b3df-482...|  483717197|             0|991a1c92-2e29-41c...|mediawiki.recentc...|codfw.mediawiki.r...|https://commons.w...|           2021-09-13|commons.wikimedia...|\n",
      "|     null|wiki-changes|2021-09-13 23:10:...|/mediawiki/recent...| true|Uploading geograp...|1768655899|      null|      null| null|        6|Uploading geograp...|     null|        null|        null|                /w|https://commons.w...|2021-09-13 23:10:01|File:Algernon Pla...|       log|       GeographBot|commonswiki|commons.wikimedia...|2021-09-13T16:10:01Z|0a7f5f77-81d8-45a...|  483717198|             0|0ee9f52f-bf92-463...|mediawiki.recentc...|codfw.mediawiki.r...|https://commons.w...|           2021-09-13|commons.wikimedia...|\n",
      "|     null|wiki-changes|2021-09-13 23:10:...|/mediawiki/recent...|false|[[:File:Kannelmäk...|1768655863|      null|      null| null|       14|<a href=\"/wiki/Fi...|     null|        null|        null|                /w|https://commons.w...|2021-09-13 23:09:55|Category:Kannelmä...|categorize|         Konryusui|commonswiki|commons.wikimedia...|2021-09-13T16:09:55Z|5e69c964-2eca-4cf...|  483717200|             0|ff128e24-48e0-4c0...|mediawiki.recentc...|codfw.mediawiki.r...|https://commons.w...|           2021-09-13|commons.wikimedia...|\n",
      "|     null|wiki-changes|2021-09-13 23:10:...|/mediawiki/recent...|false|                    |1768655913|      3722|      3722|false|        6|                    |    false|   590999698|   590999540|                /w|https://commons.w...|2021-09-13 23:10:07|File:Baudenkmal i...|      edit|Andreassaerdna1966|commonswiki|commons.wikimedia...|2021-09-13T16:10:07Z|b36b7c50-7d23-43e...|  483717202|             0|84f53d47-3c5f-4fa...|mediawiki.recentc...|codfw.mediawiki.r...|https://commons.w...|           2021-09-13|commons.wikimedia...|\n",
      "|     null|wiki-changes|2021-09-13 23:10:...|/mediawiki/recent...|false|[[:File:Parco Naz...|1768655907|      null|      null| null|       14|<a href=\"/wiki/Fi...|     null|        null|        null|                /w|https://commons.w...|2021-09-13 23:10:02|Category:Creative...|categorize|              FrDr|commonswiki|commons.wikimedia...|2021-09-13T16:10:02Z|49476b6e-c491-4d9...|  483717205|             0|ddd9d85e-73ea-440...|mediawiki.recentc...|codfw.mediawiki.r...|https://commons.w...|           2021-09-13|commons.wikimedia...|\n",
      "|     null|wiki-changes|2021-09-13 23:10:...|/mediawiki/recent...|false|[[:File:Kannelmäk...|1768655878|      null|      null| null|       14|<a href=\"/wiki/Fi...|     null|        null|        null|                /w|https://commons.w...|2021-09-13 23:09:54|Category:Flickr i...|categorize|         Konryusui|commonswiki|commons.wikimedia...|2021-09-13T16:09:54Z|56ada6b3-09e3-4b3...|  483717207|             0|991a1c92-2e29-41c...|mediawiki.recentc...|codfw.mediawiki.r...|https://commons.w...|           2021-09-13|commons.wikimedia...|\n",
      "|     null|wiki-changes|2021-09-13 23:10:...|/mediawiki/recent...|false|Uploaded own work...|1768655832|      null|      null| null|        6|Uploaded own work...|     null|        null|        null|                /w|https://commons.w...|2021-09-13 23:10:00|File:Parco Nazion...|       log|              FrDr|commonswiki|commons.wikimedia...|2021-09-13T16:10:00Z|d4f32d4f-3670-4d3...|  483717209|             0|ddd9d85e-73ea-440...|mediawiki.recentc...|codfw.mediawiki.r...|https://commons.w...|           2021-09-13|commons.wikimedia...|\n",
      "|     null|wiki-changes|2021-09-13 23:10:...|/mediawiki/recent...|false|[[:File:Kannelmäk...|1768655864|      null|      null| null|       14|<a href=\"/wiki/Fi...|     null|        null|        null|                /w|https://commons.w...|2021-09-13 23:09:55|Category:2021 in ...|categorize|         Konryusui|commonswiki|commons.wikimedia...|2021-09-13T16:09:55Z|3c6c1f5b-aa04-426...|  483717210|             0|ff128e24-48e0-4c0...|mediawiki.recentc...|codfw.mediawiki.r...|https://commons.w...|           2021-09-13|commons.wikimedia...|\n",
      "|     null|wiki-changes|2021-09-13 23:10:...|/mediawiki/recent...|false|[[:File:Parco Naz...|1768655908|      null|      null| null|       14|<a href=\"/wiki/Fi...|     null|        null|        null|                /w|https://commons.w...|2021-09-13 23:10:02|Category:CC-BY-SA...|categorize|              FrDr|commonswiki|commons.wikimedia...|2021-09-13T16:10:02Z|024c3e4e-39b3-422...|  483717212|             0|ddd9d85e-73ea-440...|mediawiki.recentc...|codfw.mediawiki.r...|https://commons.w...|           2021-09-13|commons.wikimedia...|\n",
      "|     null|wiki-changes|2021-09-13 23:10:...|/mediawiki/recent...|false|[[:File:Kannelmäk...|1768655879|      null|      null| null|       14|<a href=\"/wiki/Fi...|     null|        null|        null|                /w|https://commons.w...|2021-09-13 23:09:54|Category:Kannelmä...|categorize|         Konryusui|commonswiki|commons.wikimedia...|2021-09-13T16:09:54Z|023ffde9-e2c0-43a...|  483717216|             0|991a1c92-2e29-41c...|mediawiki.recentc...|codfw.mediawiki.r...|https://commons.w...|           2021-09-13|commons.wikimedia...|\n",
      "|     null|wiki-changes|2021-09-13 23:10:...|/mediawiki/recent...|false|[[:File:Kannelmäk...|1768655865|      null|      null| null|       14|<a href=\"/wiki/Fi...|     null|        null|        null|                /w|https://commons.w...|2021-09-13 23:09:55|Category:Septembe...|categorize|         Konryusui|commonswiki|commons.wikimedia...|2021-09-13T16:09:55Z|de416768-635b-415...|  483717217|             0|ff128e24-48e0-4c0...|mediawiki.recentc...|codfw.mediawiki.r...|https://commons.w...|           2021-09-13|commons.wikimedia...|\n",
      "|     null|wiki-changes|2021-09-13 23:10:...|/mediawiki/recent...|false|[[:File:Parco Naz...|1768655909|      null|      null| null|       14|<a href=\"/wiki/Fi...|     null|        null|        null|                /w|https://commons.w...|2021-09-13 23:10:02|Category:Creative...|categorize|              FrDr|commonswiki|commons.wikimedia...|2021-09-13T16:10:02Z|1fd46c03-b136-434...|  483717220|             0|ddd9d85e-73ea-440...|mediawiki.recentc...|codfw.mediawiki.r...|https://commons.w...|           2021-09-13|commons.wikimedia...|\n",
      "|     null|wiki-changes|2021-09-13 23:10:...|/mediawiki/recent...|false|[[:File:Kannelmäk...|1768655880|      null|      null| null|       14|<a href=\"/wiki/Fi...|     null|        null|        null|                /w|https://commons.w...|2021-09-13 23:09:54|Category:2021 in ...|categorize|         Konryusui|commonswiki|commons.wikimedia...|2021-09-13T16:09:54Z|eef77f9c-8b28-4b2...|  483717226|             0|991a1c92-2e29-41c...|mediawiki.recentc...|codfw.mediawiki.r...|https://commons.w...|           2021-09-13|commons.wikimedia...|\n",
      "|     null|wiki-changes|2021-09-13 23:10:...|/mediawiki/recent...|false|[[:File:Kannelmäk...|1768655866|      null|      null| null|       14|<a href=\"/wiki/Fi...|     null|        null|        null|                /w|https://commons.w...|2021-09-13 23:09:55|Category:2021 in ...|categorize|         Konryusui|commonswiki|commons.wikimedia...|2021-09-13T16:09:55Z|e7d3e651-9e81-474...|  483717229|             0|ff128e24-48e0-4c0...|mediawiki.recentc...|codfw.mediawiki.r...|https://commons.w...|           2021-09-13|commons.wikimedia...|\n",
      "|     null|wiki-changes|2021-09-13 23:10:...|/mediawiki/recent...|false|[[:File:Parco Naz...|1768655910|      null|      null| null|       14|<a href=\"/wiki/Fi...|     null|        null|        null|                /w|https://commons.w...|2021-09-13 23:10:02|Category:Self-pub...|categorize|              FrDr|commonswiki|commons.wikimedia...|2021-09-13T16:10:02Z|872d7302-e2f3-47f...|  483717232|             0|ddd9d85e-73ea-440...|mediawiki.recentc...|codfw.mediawiki.r...|https://commons.w...|           2021-09-13|commons.wikimedia...|\n",
      "|     null|wiki-changes|2021-09-13 23:10:...|/mediawiki/recent...| true|/* wbeditentity-u...|1768655916|      7423|      5359|false|        6|‎<span dir=\"auto\"...|     true|   590999699|   499955817|                /w|https://commons.w...|2021-09-13 23:10:08|File:Die VD 3 rüs...|      edit|     SchlurcherBot|commonswiki|commons.wikimedia...|2021-09-13T16:10:08Z|200394f3-0ece-4b0...|  483717233|             0|15ea8de9-597f-4ae...|mediawiki.recentc...|codfw.mediawiki.r...|https://commons.w...|           2021-09-13|commons.wikimedia...|\n",
      "|     null|wiki-changes|2021-09-13 23:10:...|/mediawiki/recent...| true|/* wbeditentity-u...|1768655914|      3588|      1114|false|        6|‎<span dir=\"auto\"...|     true|   590999690|   538176177|                /w|https://commons.w...|2021-09-13 23:10:05|File:Temple Daily...|      edit|          DPLA bot|commonswiki|commons.wikimedia...|2021-09-13T16:10:05Z|c1c48ef2-0929-468...|  483717236|             0|6b417505-eae4-4ec...|mediawiki.recentc...|codfw.mediawiki.r...|https://commons.w...|           2021-09-13|commons.wikimedia...|\n",
      "|     null|wiki-changes|2021-09-13 23:10:...|/mediawiki/recent...|false|[[:File:Kannelmäk...|1768655881|      null|      null| null|       14|<a href=\"/wiki/Fi...|     null|        null|        null|                /w|https://commons.w...|2021-09-13 23:09:54|Category:Septembe...|categorize|         Konryusui|commonswiki|commons.wikimedia...|2021-09-13T16:09:54Z|788c409b-f443-410...|  483717237|             0|991a1c92-2e29-41c...|mediawiki.recentc...|codfw.mediawiki.r...|https://commons.w...|           2021-09-13|commons.wikimedia...|\n",
      "|     null|wiki-changes|2021-09-13 23:10:...|/mediawiki/recent...|false|[[:File:Parco Naz...|1768655911|      null|      null| null|       14|<a href=\"/wiki/Fi...|     null|        null|        null|                /w|https://commons.w...|2021-09-13 23:10:02|Category:Self-pub...|categorize|              FrDr|commonswiki|commons.wikimedia...|2021-09-13T16:10:02Z|da3b9cc6-d111-4d6...|  483717242|             0|ddd9d85e-73ea-440...|mediawiki.recentc...|codfw.mediawiki.r...|https://commons.w...|           2021-09-13|commons.wikimedia...|\n",
      "+---------+------------+--------------------+--------------------+-----+--------------------+----------+----------+----------+-----+---------+--------------------+---------+------------+------------+------------------+--------------------+-------------------+--------------------+----------+------------------+-----------+--------------------+--------------------+--------------------+-----------+--------------+--------------------+--------------------+--------------------+--------------------+---------------------+--------------------+\n",
      "only showing top 20 rows\n",
      "\n"
     ]
    }
   ],
   "source": [
    "# Export data to check data stream\n",
    "\n",
    "df_check = spark.sql(\"SELECT * FROM wiki_changes_count\")\n",
    "df_check.show()"
   ]
  },
  {
   "cell_type": "code",
   "execution_count": 33,
   "id": "b1963c8e",
   "metadata": {},
   "outputs": [
    {
     "name": "stdout",
     "output_type": "stream",
     "text": [
      "Run:10\n",
      "+-----+\n",
      "|  qty|\n",
      "+-----+\n",
      "|61143|\n",
      "+-----+\n",
      "\n",
      "stream process interrupted\n"
     ]
    }
   ],
   "source": [
    "from time import sleep\n",
    "from IPython.display import clear_output\n",
    "\n",
    "# Count rows every 5 seconds while stream is active\n",
    "try:\n",
    "    i=1\n",
    "    # While stream is active, print count\n",
    "    while len(spark.streams.active) > 0:\n",
    "        \n",
    "        # Clear output\n",
    "        clear_output(wait=True)\n",
    "        print(\"Run:{}\".format(i))\n",
    "        \n",
    "        lst_queries = []\n",
    "        for s in spark.streams.active:\n",
    "            lst_queries.append(s.name)\n",
    "\n",
    "        # Verify if wiki_changes_count query is active before count\n",
    "        if \"wiki_changes_count\" in lst_queries:\n",
    "            # Count number of events\n",
    "            spark.sql(\"select count(1) as qty from wiki_changes_count\").show()\n",
    "        else:\n",
    "            print(\"'wiki_changes_count' query not found.\")\n",
    "\n",
    "        sleep(5)\n",
    "        i=i+1\n",
    "        \n",
    "except KeyboardInterrupt:\n",
    "    # Stop Query Stream\n",
    "    queryStreamMem.stop()\n",
    "    \n",
    "    print(\"stream process interrupted\")"
   ]
  },
  {
   "cell_type": "code",
   "execution_count": 17,
   "id": "f89b752f",
   "metadata": {},
   "outputs": [],
   "source": [
    "# Check active streams\n",
    "for s in spark.streams.active:\n",
    "    print(\"ID:{} | NAME:{}\".format(s.id, s.name))"
   ]
  },
  {
   "cell_type": "code",
   "execution_count": 8,
   "id": "c8e028dd",
   "metadata": {},
   "outputs": [],
   "source": [
    "# Stop ingestion\n",
    "queryStream.stop()"
   ]
  },
  {
   "cell_type": "code",
   "execution_count": null,
   "id": "57fe9aab",
   "metadata": {},
   "outputs": [],
   "source": []
  }
 ],
 "metadata": {
  "kernelspec": {
   "display_name": "Python 3 (ipykernel)",
   "language": "python",
   "name": "python3"
  },
  "language_info": {
   "codemirror_mode": {
    "name": "ipython",
    "version": 3
   },
   "file_extension": ".py",
   "mimetype": "text/x-python",
   "name": "python",
   "nbconvert_exporter": "python",
   "pygments_lexer": "ipython3",
   "version": "3.9.7"
  }
 },
 "nbformat": 4,
 "nbformat_minor": 5
}
